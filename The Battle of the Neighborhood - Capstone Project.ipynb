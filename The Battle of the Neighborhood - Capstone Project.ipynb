{
 "cells": [
  {
   "cell_type": "markdown",
   "metadata": {},
   "source": [
    "<h1><center> The Battle of the Neighborhoods - The Capstone Project <center></h1>"
   ]
  },
  {
   "cell_type": "markdown",
   "metadata": {},
   "source": [
    "<h2><center> Opening a restaurant of Russian national cuisine in New York City <center></h2>"
   ]
  },
  {
   "cell_type": "markdown",
   "metadata": {},
   "source": [
    "<img src = \"https://cache.marriott.com/marriottassets/destinations/hero/new-york-city-destination.jpg?interpolation=progressive-bilinear&resize=2880:960\" width = 1920>"
   ]
  },
  {
   "cell_type": "markdown",
   "metadata": {},
   "source": [
    "<h3><center>Table of Contents<center></h3>\n",
    "<div class=\"alert alert-block alert-info\" style=\"margin-top: 20px\">\n",
    "    <ul>\n",
    "        <li> \n",
    "            <a href=\"#intro\"> Business Problem </a>\n",
    "        </li>\n",
    "        <li> \n",
    "            <a href=\"#data\"> Data </a>\n",
    "        </li>\n",
    "        <li> \n",
    "            <a href=\"#methodology\"> Methodology </a>\n",
    "        </li>\n",
    "             <ul>\n",
    "                <li> \n",
    "                    <a href=\"#import\"> Importing all relevant libraries </a>\n",
    "                </li>\n",
    "                <li> \n",
    "                    <a href=\"#upload\"> Uploading neighborhoods database </a>\n",
    "                </li>\n",
    "                <li> \n",
    "                    <a href=\"#choose\"> Choosing district - Brooklyn </a>\n",
    "                </li>\n",
    "                <li> \n",
    "                    <a href=\"#coord\"> Getting the geographical coordinates of the district </a>\n",
    "                </li>\n",
    "                <li> \n",
    "                    <a href=\"#map_1\"> Creating a map of District's neighborhoods using latitude and longitude values </a>\n",
    "                </li>\n",
    "                 <li> \n",
    "                    <a href=\"#api\"> Foursquare API to explore the neighborhoodse values </a>\n",
    "                </li>\n",
    "                 <li> \n",
    "                    <a href=\"#map_2\"> Creating a map of 30 Brooklyn (Bay Ridge) restaurants using latitude and longitude values </a>\n",
    "                </li>\n",
    "            </ul>\n",
    "        <li> \n",
    "            <a href=\"#results\"> Results </a>\n",
    "        </li>\n",
    "        <li> \n",
    "            <a href=\"#discussion\"> Discussion </a>\n",
    "        </li>\n",
    "        <li> \n",
    "            <a href=\"#conclusion\"> Conclusion </a>\n",
    "        </li>\n",
    "     </ul>\n",
    "</div>\n"
   ]
  },
  {
   "cell_type": "markdown",
   "metadata": {},
   "source": [
    "<a id=\"intro\"></a>\n",
    "<h2>Business Problem</h2>"
   ]
  },
  {
   "cell_type": "markdown",
   "metadata": {},
   "source": [
    "The target city of my interest is **New York**. \n",
    "\n",
    "The aim of this project is to define the optimal location for opening a new **restaurant** in one of the New York districts. \n",
    "\n",
    "The main problem of the project is that New York is crowded with various kinds of restaurants so the main challange is to select right location with minimum existing restaurants in the nearest neighborhood.\n",
    "\n",
    "The project can be relevant to those businessmen who desire to enlarge their business, New York has always been an attractive market."
   ]
  },
  {
   "cell_type": "markdown",
   "metadata": {},
   "source": [
    "<a id=\"data\"></a>\n",
    "<h2>Data</h2>"
   ]
  },
  {
   "cell_type": "markdown",
   "metadata": {},
   "source": [
    "The main data will be extracted using **Foursquare API** and the **\"newyork_data.json\"** file provided in the course earlier, as there are several problems with Foursquare when trying to fetch data of other cities.\n",
    "\n",
    "**Firstly**, the newyork_data.json file will be used to extract the information about New York districts and to choose one particular.\n",
    "\n",
    "**Secondly**, using Foursquare API, the relevant data about neighborhood venues will be uploaded.\n",
    "\n",
    "**Then**, only \"food\" types of venues will be chosen and mapped to determine the possible location of a new restaurant."
   ]
  },
  {
   "cell_type": "markdown",
   "metadata": {},
   "source": [
    "<a id=\"methodology\"></a>\n",
    "<h2>Methodology</h2>"
   ]
  },
  {
   "cell_type": "markdown",
   "metadata": {},
   "source": [
    "<a id=\"import\"></a>\n",
    "<h3>Importing all relevant libraries</h3>"
   ]
  },
  {
   "cell_type": "code",
   "execution_count": null,
   "metadata": {},
   "outputs": [],
   "source": [
    "import numpy as np\n",
    "import pandas as pd\n",
    "import json\n",
    "from geopy.geocoders import Nominatim\n",
    "import requests\n",
    "from pandas.io.json import json_normalize\n",
    "import matplotlib.cm as cm\n",
    "import matplotlib.colors as colors\n",
    "from sklearn.cluster import KMeans\n",
    "import folium\n",
    "\n",
    "pd.options.display.max_columns = None\n",
    "pd.options.display.max_rows = None\n",
    "\n",
    "print('Libraries imported.')"
   ]
  },
  {
   "cell_type": "markdown",
   "metadata": {},
   "source": [
    "<a id=\"upload\"></a>\n",
    "<h3>Uploading neighborhoods database</h3>"
   ]
  },
  {
   "cell_type": "code",
   "execution_count": null,
   "metadata": {},
   "outputs": [],
   "source": [
    "!wget -q -O 'newyork_data.json' https://cocl.us/new_york_dataset\n",
    "print('Data downloaded!')"
   ]
  },
  {
   "cell_type": "code",
   "execution_count": null,
   "metadata": {},
   "outputs": [],
   "source": [
    "with open('newyork_data.json') as json_data:\n",
    "    newyork_data = json.load(json_data)"
   ]
  },
  {
   "cell_type": "code",
   "execution_count": null,
   "metadata": {},
   "outputs": [],
   "source": [
    "neighborhoods_data = newyork_data['features']"
   ]
  },
  {
   "cell_type": "code",
   "execution_count": null,
   "metadata": {},
   "outputs": [],
   "source": [
    "# define the dataframe columns\n",
    "column_names = ['Borough', 'Neighborhood', 'Latitude', 'Longitude'] \n",
    "\n",
    "# instantiate the dataframe\n",
    "neighborhoods = pd.DataFrame(columns=column_names)"
   ]
  },
  {
   "cell_type": "code",
   "execution_count": null,
   "metadata": {},
   "outputs": [],
   "source": [
    "for data in neighborhoods_data:\n",
    "    borough = neighborhood_name = data['properties']['borough'] \n",
    "    neighborhood_name = data['properties']['name']\n",
    "        \n",
    "    neighborhood_latlon = data['geometry']['coordinates']\n",
    "    neighborhood_lat = neighborhood_latlon[1]\n",
    "    neighborhood_lon = neighborhood_latlon[0]\n",
    "    \n",
    "    neighborhoods = neighborhoods.append({'Borough': borough,\n",
    "                                          'Neighborhood': neighborhood_name,\n",
    "                                          'Latitude': neighborhood_lat,\n",
    "                                          'Longitude': neighborhood_lon}, ignore_index=True)"
   ]
  },
  {
   "cell_type": "code",
   "execution_count": null,
   "metadata": {},
   "outputs": [],
   "source": [
    "neighborhoods"
   ]
  },
  {
   "cell_type": "markdown",
   "metadata": {},
   "source": [
    "<a id=\"choose\"></a>\n",
    "<h3>Choosing district - Brooklyn</h3>"
   ]
  },
  {
   "cell_type": "code",
   "execution_count": null,
   "metadata": {},
   "outputs": [],
   "source": [
    "brooklyn_data = neighborhoods[neighborhoods['Borough'] == 'Brooklyn'].reset_index(drop=True)\n",
    "brooklyn_data"
   ]
  },
  {
   "cell_type": "markdown",
   "metadata": {},
   "source": [
    "Brooklyn has 70 neighborhoods"
   ]
  },
  {
   "cell_type": "markdown",
   "metadata": {},
   "source": [
    "<a id=\"coord\"></a>\n",
    "<h3>Getting the geographical coordinates of the district</h3>"
   ]
  },
  {
   "cell_type": "code",
   "execution_count": 43,
   "metadata": {},
   "outputs": [
    {
     "name": "stdout",
     "output_type": "stream",
     "text": [
      "The geograpical coordinates of Brooklyn are 40.6501038, -73.9495823.\n"
     ]
    }
   ],
   "source": [
    "address = 'Brooklyn, NY'\n",
    "geolocator = Nominatim(user_agent=\"ny_explorer\")\n",
    "location = geolocator.geocode(address)\n",
    "latitude = location.latitude\n",
    "longitude = location.longitude\n",
    "print('The geograpical coordinates of Brooklyn are {}, {}.'.format(latitude, longitude))"
   ]
  },
  {
   "cell_type": "markdown",
   "metadata": {},
   "source": [
    "<a id=\"map_1\"></a>\n",
    "<h3>Creating a map of Brooklyn's neighborhoods using latitude and longitude values</h3>"
   ]
  },
  {
   "cell_type": "code",
   "execution_count": 41,
   "metadata": {},
   "outputs": [
    {
     "data": {
      "text/html": [
       "<div style=\"width:100%;\"><div style=\"position:relative;width:100%;height:0;padding-bottom:60%;\"><iframe src=\"about:blank\" style=\"position:absolute;width:100%;height:100%;left:0;top:0;border:none !important;\" data-html=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 onload=\"this.contentDocument.open();this.contentDocument.write(atob(this.getAttribute('data-html')));this.contentDocument.close();\" allowfullscreen webkitallowfullscreen mozallowfullscreen></iframe></div></div>"
      ],
      "text/plain": [
       "<folium.folium.Map at 0x7f4bdbea9ef0>"
      ]
     },
     "execution_count": 41,
     "metadata": {},
     "output_type": "execute_result"
    }
   ],
   "source": [
    "map_brooklyn = folium.Map(location=[40.6501038, -73.9495823], zoom_start=11)\n",
    "\n",
    "for lat, lng, label in zip(brooklyn_data['Latitude'], brooklyn_data['Longitude'], brooklyn_data['Neighborhood']):\n",
    "    label = folium.Popup(label, parse_html=True)\n",
    "    folium.CircleMarker(\n",
    "        [lat, lng],\n",
    "        radius=5,\n",
    "        popup=label,\n",
    "        color='blue',\n",
    "        fill=True,\n",
    "        fill_color='#3186cc',\n",
    "        fill_opacity=0.7,\n",
    "        parse_html=False).add_to(map_brooklyn)\n",
    "map_brooklyn"
   ]
  },
  {
   "cell_type": "markdown",
   "metadata": {},
   "source": [
    "<a id=\"api\"></a>\n",
    "<h3>Foursquare API to explore the neighborhoods</h3>"
   ]
  },
  {
   "cell_type": "markdown",
   "metadata": {},
   "source": [
    "**Defining Foursquare Credentials and Version**"
   ]
  },
  {
   "cell_type": "code",
   "execution_count": null,
   "metadata": {},
   "outputs": [],
   "source": [
    "CLIENT_ID = 'FNLZPWYNF5YI0RT3AHCNH2HUMRTZLDVKYBRLFDPV52KJQOFI'\n",
    "CLIENT_SECRET = 'TNGIE1IZFPATQEFROT1ICBP04WCLHCDBP4O4ILWML3ALJZCK'\n",
    "VERSION = '20200325'\n",
    "print('Your credentails:')\n",
    "print('CLIENT_ID: ' + CLIENT_ID)\n",
    "print('CLIENT_SECRET:' + CLIENT_SECRET)"
   ]
  },
  {
   "cell_type": "code",
   "execution_count": null,
   "metadata": {},
   "outputs": [],
   "source": [
    "def getNearbyVenues(names, latitudes, longitudes, radius=500):\n",
    "    \n",
    "    venues_list=[]\n",
    "    for name, lat, lng in zip(names, latitudes, longitudes):\n",
    "        print(name)\n",
    "            \n",
    "        # create the API request URL\n",
    "        url = 'https://api.foursquare.com/v2/venues/explore?&client_id=FNLZPWYNF5YI0RT3AHCNH2HUMRTZLDVKYBRLFDPV52KJQOFI&client_secret=TNGIE1IZFPATQEFROT1ICBP04WCLHCDBP4O4ILWML3ALJZCK&v=20200325&ll=40.6501038, -73.9495823&radius=5000&limit=1000'.format(\n",
    "            CLIENT_ID, \n",
    "            CLIENT_SECRET, \n",
    "            VERSION, \n",
    "            lat, \n",
    "            lng, \n",
    "            radius)\n",
    "            \n",
    "        # make the GET request\n",
    "        results = requests.get(url).json()[\"response\"]['groups'][0]['items']\n",
    "        \n",
    "        # return only relevant information for each nearby venue\n",
    "        venues_list.append([(\n",
    "            name, \n",
    "            lat, \n",
    "            lng, \n",
    "            v['venue']['name'], \n",
    "            v['venue']['location']['lat'], \n",
    "            v['venue']['location']['lng'],  \n",
    "            v['venue']['categories'][0]['name']) for v in results])\n",
    "\n",
    "    nearby_venues = pd.DataFrame([item for venue_list in venues_list for item in venue_list])\n",
    "    nearby_venues.columns = ['Neighborhood', \n",
    "                  'Neighborhood Latitude', \n",
    "                  'Neighborhood Longitude', \n",
    "                  'Venue', \n",
    "                  'Venue Latitude', \n",
    "                  'Venue Longitude', \n",
    "                  'Venue Category']\n",
    "    \n",
    "    return(nearby_venues)"
   ]
  },
  {
   "cell_type": "markdown",
   "metadata": {},
   "source": [
    "#### Now write the code to run the above function on each neighborhood and create a new dataframe called *brooklyn_venues*."
   ]
  },
  {
   "cell_type": "code",
   "execution_count": null,
   "metadata": {},
   "outputs": [],
   "source": [
    "brooklyn_venues = getNearbyVenues(names=brooklyn_data['Neighborhood'],\n",
    "                                   latitudes=brooklyn_data['Latitude'],\n",
    "                                   longitudes=brooklyn_data['Longitude'])"
   ]
  },
  {
   "cell_type": "markdown",
   "metadata": {},
   "source": [
    "**Let's check the size of the resulting dataframe**"
   ]
  },
  {
   "cell_type": "code",
   "execution_count": 34,
   "metadata": {},
   "outputs": [
    {
     "name": "stdout",
     "output_type": "stream",
     "text": [
      "(7000, 7)\n"
     ]
    }
   ],
   "source": [
    "print(brooklyn_venues.shape)"
   ]
  },
  {
   "cell_type": "markdown",
   "metadata": {},
   "source": [
    "**7000 seems strange as the limit was 1000 and 7000 does not correlate with any other setting**"
   ]
  },
  {
   "cell_type": "code",
   "execution_count": 35,
   "metadata": {
    "scrolled": true
   },
   "outputs": [
    {
     "data": {
      "text/html": [
       "<div>\n",
       "<style scoped>\n",
       "    .dataframe tbody tr th:only-of-type {\n",
       "        vertical-align: middle;\n",
       "    }\n",
       "\n",
       "    .dataframe tbody tr th {\n",
       "        vertical-align: top;\n",
       "    }\n",
       "\n",
       "    .dataframe thead th {\n",
       "        text-align: right;\n",
       "    }\n",
       "</style>\n",
       "<table border=\"1\" class=\"dataframe\">\n",
       "  <thead>\n",
       "    <tr style=\"text-align: right;\">\n",
       "      <th></th>\n",
       "      <th>Neighborhood</th>\n",
       "      <th>Neighborhood Latitude</th>\n",
       "      <th>Neighborhood Longitude</th>\n",
       "      <th>Venue</th>\n",
       "      <th>Venue Latitude</th>\n",
       "      <th>Venue Longitude</th>\n",
       "      <th>Venue Category</th>\n",
       "    </tr>\n",
       "  </thead>\n",
       "  <tbody>\n",
       "    <tr>\n",
       "      <th>0</th>\n",
       "      <td>Bay Ridge</td>\n",
       "      <td>40.625801</td>\n",
       "      <td>-74.030621</td>\n",
       "      <td>Kings Theatre</td>\n",
       "      <td>40.646110</td>\n",
       "      <td>-73.957175</td>\n",
       "      <td>Theater</td>\n",
       "    </tr>\n",
       "    <tr>\n",
       "      <th>1</th>\n",
       "      <td>Bay Ridge</td>\n",
       "      <td>40.625801</td>\n",
       "      <td>-74.030621</td>\n",
       "      <td>Peppa's Jerk Chicken</td>\n",
       "      <td>40.654953</td>\n",
       "      <td>-73.959783</td>\n",
       "      <td>Caribbean Restaurant</td>\n",
       "    </tr>\n",
       "    <tr>\n",
       "      <th>2</th>\n",
       "      <td>Bay Ridge</td>\n",
       "      <td>40.625801</td>\n",
       "      <td>-74.030621</td>\n",
       "      <td>Risbo</td>\n",
       "      <td>40.656012</td>\n",
       "      <td>-73.959912</td>\n",
       "      <td>Restaurant</td>\n",
       "    </tr>\n",
       "    <tr>\n",
       "      <th>3</th>\n",
       "      <td>Bay Ridge</td>\n",
       "      <td>40.625801</td>\n",
       "      <td>-74.030621</td>\n",
       "      <td>PLG Coffee House and Tavern</td>\n",
       "      <td>40.660007</td>\n",
       "      <td>-73.953362</td>\n",
       "      <td>Café</td>\n",
       "    </tr>\n",
       "    <tr>\n",
       "      <th>4</th>\n",
       "      <td>Bay Ridge</td>\n",
       "      <td>40.625801</td>\n",
       "      <td>-74.030621</td>\n",
       "      <td>Little Mo Wine &amp; Spirits</td>\n",
       "      <td>40.660346</td>\n",
       "      <td>-73.950360</td>\n",
       "      <td>Liquor Store</td>\n",
       "    </tr>\n",
       "  </tbody>\n",
       "</table>\n",
       "</div>"
      ],
      "text/plain": [
       "  Neighborhood  Neighborhood Latitude  Neighborhood Longitude  \\\n",
       "0    Bay Ridge              40.625801              -74.030621   \n",
       "1    Bay Ridge              40.625801              -74.030621   \n",
       "2    Bay Ridge              40.625801              -74.030621   \n",
       "3    Bay Ridge              40.625801              -74.030621   \n",
       "4    Bay Ridge              40.625801              -74.030621   \n",
       "\n",
       "                         Venue  Venue Latitude  Venue Longitude  \\\n",
       "0                Kings Theatre       40.646110       -73.957175   \n",
       "1         Peppa's Jerk Chicken       40.654953       -73.959783   \n",
       "2                        Risbo       40.656012       -73.959912   \n",
       "3  PLG Coffee House and Tavern       40.660007       -73.953362   \n",
       "4     Little Mo Wine & Spirits       40.660346       -73.950360   \n",
       "\n",
       "         Venue Category  \n",
       "0               Theater  \n",
       "1  Caribbean Restaurant  \n",
       "2            Restaurant  \n",
       "3                  Café  \n",
       "4          Liquor Store  "
      ]
     },
     "execution_count": 35,
     "metadata": {},
     "output_type": "execute_result"
    }
   ],
   "source": [
    "brooklyn_venues.head()"
   ]
  },
  {
   "cell_type": "markdown",
   "metadata": {},
   "source": [
    "**Let's see hom many unique values do we have among 7000**"
   ]
  },
  {
   "cell_type": "code",
   "execution_count": 36,
   "metadata": {},
   "outputs": [
    {
     "data": {
      "text/plain": [
       "array(['Kings Theatre', \"Peppa's Jerk Chicken\", 'Risbo',\n",
       "       'PLG Coffee House and Tavern', 'Little Mo Wine & Spirits',\n",
       "       'Prospect Park - Parkside', 'Empanada City', \"Erv's On Beekman\",\n",
       "       'Glou', 'Ix', 'Silver Rice', 'The Food Sermon',\n",
       "       'LeFrak Center at Lakeside',\n",
       "       'Prospect Park Boathouse & Audubon Center', 'De Hot Pot Roti Shop',\n",
       "       'Prospect Park (Lincoln Rd Playground)', 'Drink',\n",
       "       'Smorgasburg Prospect Park', 'Prospect Park (Peninsula)',\n",
       "       'Prospect Park (Nethermead)', 'The Castello Plan', 'Der Pioneer',\n",
       "       'Werkstatt', 'Wheated', 'Prospect Park', 'Brooklyn Botanic Garden',\n",
       "       'Bonsai Museum', 'Discovery Garden @ Brooklyn Botanic Garden',\n",
       "       'Colina Cuervo', 'Japanese Garden', \"Brancaccio's\",\n",
       "       'Prospect Park (Dog Run)', 'Barboncino', \"Sal's Restaurant\",\n",
       "       'Brooklyn Botanic Garden - Visitor Center', 'Cherry Esplanade',\n",
       "       'Brooklyn Museum', 'Lula Bird',\n",
       "       'Trinidad Golden Palace Restaurant', \"Glady's\", 'Super Power',\n",
       "       'Long Meadow', 'Urban Asanas',\n",
       "       'Prospect Park Bandshell / Celebrate Brooklyn!',\n",
       "       'Brooklyn Museum Gift Shop', 'Hunky Dory', \"Chavela's\",\n",
       "       'Bagel Pub', 'Oxalis', 'Covenhoven', 'The Crown Inn',\n",
       "       'Mount Prospect Park', 'Prospect Park Loop', 'Café Cotton Bean',\n",
       "       'The Double Windsor', 'Mayfield', 'East Wind Snack Shop',\n",
       "       'Grand Army Plaza Greenmarket', 'Jewel City Yoga',\n",
       "       'Cafe Con Libros', 'Tooker Alley', 'Argyle Yarn Shop', 'King Tai',\n",
       "       'St Ends', 'Diwan Grill', 'Lowerline', 'Grand Army Plaza',\n",
       "       'Slope Wellness', 'Gold Star Beer Counter', 'Provini', \"Berg'n\",\n",
       "       'The Islands', 'Winey Neighbor', \"Giovanni's Brooklyn Eats\",\n",
       "       \"Soldiers' and Sailors' Arch\", 'Bitter & Esters', 'Gen',\n",
       "       'Bearded Lady', 'India House', 'Puerto Viejo', 'Olmsted',\n",
       "       'Sushi Katsuei', 'Opal Massage', 'Ample Hills Creamery',\n",
       "       'La Bagel Delight', 'Slope Cellars', 'Fonda',\n",
       "       'Community Bookstore', 'Hand of Glory Tattoo', 'Brook Vin',\n",
       "       'Golda', 'Union Market', \"Hart's\", 'Ode to Babel',\n",
       "       'Battle Hill - Green-Wood Cemetery', 'A & A Bake & Doubles',\n",
       "       'El Gran Castillo de Jagua', 'Honey Salon',\n",
       "       'Little Cupcake Bakeshop'], dtype=object)"
      ]
     },
     "execution_count": 36,
     "metadata": {},
     "output_type": "execute_result"
    }
   ],
   "source": [
    "brooklyn_venues['Venue'].unique()"
   ]
  },
  {
   "cell_type": "code",
   "execution_count": 37,
   "metadata": {},
   "outputs": [
    {
     "data": {
      "text/plain": [
       "99"
      ]
     },
     "execution_count": 37,
     "metadata": {},
     "output_type": "execute_result"
    }
   ],
   "source": [
    "len(brooklyn_venues['Venue'].unique())"
   ]
  },
  {
   "cell_type": "markdown",
   "metadata": {},
   "source": [
    "**We have 7000 rows, but only 99 unique Venues, which means that this data consists of hundreds of duplicates.**"
   ]
  },
  {
   "cell_type": "markdown",
   "metadata": {},
   "source": [
    "**Now we are looking for a special Venue category**"
   ]
  },
  {
   "cell_type": "code",
   "execution_count": null,
   "metadata": {
    "scrolled": true
   },
   "outputs": [],
   "source": [
    "display(brooklyn_venues)"
   ]
  },
  {
   "cell_type": "markdown",
   "metadata": {},
   "source": [
    "**After a closer look it becomes clear that there are 99 venues and they are the same for each neighborhood, moroover, the coordinates are also the same.**"
   ]
  },
  {
   "cell_type": "code",
   "execution_count": 39,
   "metadata": {},
   "outputs": [
    {
     "data": {
      "text/plain": [
       "100"
      ]
     },
     "execution_count": 39,
     "metadata": {},
     "output_type": "execute_result"
    }
   ],
   "source": [
    "len(brooklyn_venues['Venue Latitude'].unique())"
   ]
  },
  {
   "cell_type": "code",
   "execution_count": 40,
   "metadata": {},
   "outputs": [
    {
     "data": {
      "text/plain": [
       "100"
      ]
     },
     "execution_count": 40,
     "metadata": {},
     "output_type": "execute_result"
    }
   ],
   "source": [
    "len(brooklyn_venues['Venue Longitude'].unique())"
   ]
  },
  {
   "cell_type": "markdown",
   "metadata": {},
   "source": [
    "**Here is the list of unique venues**"
   ]
  },
  {
   "cell_type": "code",
   "execution_count": null,
   "metadata": {},
   "outputs": [],
   "source": [
    "venues = brooklyn_venues['Venue'].drop_duplicates()\n",
    "venues"
   ]
  },
  {
   "cell_type": "markdown",
   "metadata": {},
   "source": [
    "**Let us choose the first Neighborhood (Bay Ridge), as there is no difference in venues between Neighborhood as for the data provided by Foursquare API**"
   ]
  },
  {
   "cell_type": "code",
   "execution_count": null,
   "metadata": {},
   "outputs": [],
   "source": [
    "df = brooklyn_venues[0:100]\n",
    "df"
   ]
  },
  {
   "cell_type": "code",
   "execution_count": null,
   "metadata": {},
   "outputs": [],
   "source": [
    "df.drop(['Neighborhood','Neighborhood Latitude','Neighborhood Longitude'], axis = 1, inplace = True)\n",
    "df"
   ]
  },
  {
   "cell_type": "code",
   "execution_count": null,
   "metadata": {},
   "outputs": [],
   "source": [
    "df['Venue Category'].unique()"
   ]
  },
  {
   "cell_type": "markdown",
   "metadata": {},
   "source": [
    "**From all list of venues we need only restaurants**"
   ]
  },
  {
   "cell_type": "code",
   "execution_count": 33,
   "metadata": {},
   "outputs": [
    {
     "data": {
      "text/html": [
       "<div>\n",
       "<style scoped>\n",
       "    .dataframe tbody tr th:only-of-type {\n",
       "        vertical-align: middle;\n",
       "    }\n",
       "\n",
       "    .dataframe tbody tr th {\n",
       "        vertical-align: top;\n",
       "    }\n",
       "\n",
       "    .dataframe thead th {\n",
       "        text-align: right;\n",
       "    }\n",
       "</style>\n",
       "<table border=\"1\" class=\"dataframe\">\n",
       "  <thead>\n",
       "    <tr style=\"text-align: right;\">\n",
       "      <th></th>\n",
       "      <th>Venue</th>\n",
       "      <th>Venue Latitude</th>\n",
       "      <th>Venue Longitude</th>\n",
       "      <th>Venue Category</th>\n",
       "    </tr>\n",
       "  </thead>\n",
       "  <tbody>\n",
       "    <tr>\n",
       "      <th>1</th>\n",
       "      <td>Peppa's Jerk Chicken</td>\n",
       "      <td>40.654953</td>\n",
       "      <td>-73.959783</td>\n",
       "      <td>Caribbean Restaurant</td>\n",
       "    </tr>\n",
       "    <tr>\n",
       "      <th>2</th>\n",
       "      <td>Risbo</td>\n",
       "      <td>40.656012</td>\n",
       "      <td>-73.959912</td>\n",
       "      <td>Restaurant</td>\n",
       "    </tr>\n",
       "    <tr>\n",
       "      <th>6</th>\n",
       "      <td>Empanada City</td>\n",
       "      <td>40.661631</td>\n",
       "      <td>-73.950436</td>\n",
       "      <td>Empanada Restaurant</td>\n",
       "    </tr>\n",
       "    <tr>\n",
       "      <th>8</th>\n",
       "      <td>Glou</td>\n",
       "      <td>40.662949</td>\n",
       "      <td>-73.953869</td>\n",
       "      <td>Tapas Restaurant</td>\n",
       "    </tr>\n",
       "    <tr>\n",
       "      <th>10</th>\n",
       "      <td>Silver Rice</td>\n",
       "      <td>40.659673</td>\n",
       "      <td>-73.960368</td>\n",
       "      <td>Sushi Restaurant</td>\n",
       "    </tr>\n",
       "    <tr>\n",
       "      <th>11</th>\n",
       "      <td>The Food Sermon</td>\n",
       "      <td>40.664588</td>\n",
       "      <td>-73.953735</td>\n",
       "      <td>Caribbean Restaurant</td>\n",
       "    </tr>\n",
       "    <tr>\n",
       "      <th>14</th>\n",
       "      <td>De Hot Pot Roti Shop</td>\n",
       "      <td>40.661424</td>\n",
       "      <td>-73.960884</td>\n",
       "      <td>Caribbean Restaurant</td>\n",
       "    </tr>\n",
       "    <tr>\n",
       "      <th>22</th>\n",
       "      <td>Werkstatt</td>\n",
       "      <td>40.645252</td>\n",
       "      <td>-73.970341</td>\n",
       "      <td>Austrian Restaurant</td>\n",
       "    </tr>\n",
       "    <tr>\n",
       "      <th>37</th>\n",
       "      <td>Lula Bird</td>\n",
       "      <td>40.670854</td>\n",
       "      <td>-73.950421</td>\n",
       "      <td>Southern / Soul Food Restaurant</td>\n",
       "    </tr>\n",
       "    <tr>\n",
       "      <th>39</th>\n",
       "      <td>Glady's</td>\n",
       "      <td>40.671711</td>\n",
       "      <td>-73.957760</td>\n",
       "      <td>Caribbean Restaurant</td>\n",
       "    </tr>\n",
       "    <tr>\n",
       "      <th>46</th>\n",
       "      <td>Chavela's</td>\n",
       "      <td>40.673380</td>\n",
       "      <td>-73.957076</td>\n",
       "      <td>Mexican Restaurant</td>\n",
       "    </tr>\n",
       "    <tr>\n",
       "      <th>48</th>\n",
       "      <td>Silver Rice</td>\n",
       "      <td>40.674187</td>\n",
       "      <td>-73.957037</td>\n",
       "      <td>Sushi Restaurant</td>\n",
       "    </tr>\n",
       "    <tr>\n",
       "      <th>49</th>\n",
       "      <td>Oxalis</td>\n",
       "      <td>40.672859</td>\n",
       "      <td>-73.962692</td>\n",
       "      <td>Restaurant</td>\n",
       "    </tr>\n",
       "    <tr>\n",
       "      <th>56</th>\n",
       "      <td>Mayfield</td>\n",
       "      <td>40.674956</td>\n",
       "      <td>-73.956533</td>\n",
       "      <td>American Restaurant</td>\n",
       "    </tr>\n",
       "    <tr>\n",
       "      <th>57</th>\n",
       "      <td>East Wind Snack Shop</td>\n",
       "      <td>40.660297</td>\n",
       "      <td>-73.980169</td>\n",
       "      <td>Chinese Restaurant</td>\n",
       "    </tr>\n",
       "    <tr>\n",
       "      <th>65</th>\n",
       "      <td>Diwan Grill</td>\n",
       "      <td>40.675355</td>\n",
       "      <td>-73.956507</td>\n",
       "      <td>Indian Restaurant</td>\n",
       "    </tr>\n",
       "    <tr>\n",
       "      <th>66</th>\n",
       "      <td>Lowerline</td>\n",
       "      <td>40.674214</td>\n",
       "      <td>-73.963137</td>\n",
       "      <td>Cajun / Creole Restaurant</td>\n",
       "    </tr>\n",
       "    <tr>\n",
       "      <th>70</th>\n",
       "      <td>Provini</td>\n",
       "      <td>40.663283</td>\n",
       "      <td>-73.981431</td>\n",
       "      <td>Italian Restaurant</td>\n",
       "    </tr>\n",
       "    <tr>\n",
       "      <th>72</th>\n",
       "      <td>The Islands</td>\n",
       "      <td>40.677036</td>\n",
       "      <td>-73.963563</td>\n",
       "      <td>Caribbean Restaurant</td>\n",
       "    </tr>\n",
       "    <tr>\n",
       "      <th>74</th>\n",
       "      <td>Giovanni's Brooklyn Eats</td>\n",
       "      <td>40.660159</td>\n",
       "      <td>-73.983753</td>\n",
       "      <td>Italian Restaurant</td>\n",
       "    </tr>\n",
       "    <tr>\n",
       "      <th>77</th>\n",
       "      <td>Gen</td>\n",
       "      <td>40.677575</td>\n",
       "      <td>-73.963721</td>\n",
       "      <td>Sushi Restaurant</td>\n",
       "    </tr>\n",
       "    <tr>\n",
       "      <th>79</th>\n",
       "      <td>India House</td>\n",
       "      <td>40.678708</td>\n",
       "      <td>-73.949651</td>\n",
       "      <td>Indian Restaurant</td>\n",
       "    </tr>\n",
       "    <tr>\n",
       "      <th>80</th>\n",
       "      <td>Puerto Viejo</td>\n",
       "      <td>40.678925</td>\n",
       "      <td>-73.961960</td>\n",
       "      <td>Latin American Restaurant</td>\n",
       "    </tr>\n",
       "    <tr>\n",
       "      <th>81</th>\n",
       "      <td>Olmsted</td>\n",
       "      <td>40.677176</td>\n",
       "      <td>-73.968931</td>\n",
       "      <td>New American Restaurant</td>\n",
       "    </tr>\n",
       "    <tr>\n",
       "      <th>82</th>\n",
       "      <td>Sushi Katsuei</td>\n",
       "      <td>40.670615</td>\n",
       "      <td>-73.978504</td>\n",
       "      <td>Japanese Restaurant</td>\n",
       "    </tr>\n",
       "    <tr>\n",
       "      <th>87</th>\n",
       "      <td>Fonda</td>\n",
       "      <td>40.663514</td>\n",
       "      <td>-73.984405</td>\n",
       "      <td>Mexican Restaurant</td>\n",
       "    </tr>\n",
       "    <tr>\n",
       "      <th>91</th>\n",
       "      <td>Golda</td>\n",
       "      <td>40.681505</td>\n",
       "      <td>-73.955770</td>\n",
       "      <td>New American Restaurant</td>\n",
       "    </tr>\n",
       "    <tr>\n",
       "      <th>93</th>\n",
       "      <td>Hart's</td>\n",
       "      <td>40.681470</td>\n",
       "      <td>-73.955800</td>\n",
       "      <td>American Restaurant</td>\n",
       "    </tr>\n",
       "    <tr>\n",
       "      <th>96</th>\n",
       "      <td>A &amp; A Bake &amp; Doubles</td>\n",
       "      <td>40.680807</td>\n",
       "      <td>-73.949525</td>\n",
       "      <td>Caribbean Restaurant</td>\n",
       "    </tr>\n",
       "    <tr>\n",
       "      <th>97</th>\n",
       "      <td>El Gran Castillo de Jagua</td>\n",
       "      <td>40.676964</td>\n",
       "      <td>-73.972251</td>\n",
       "      <td>Latin American Restaurant</td>\n",
       "    </tr>\n",
       "  </tbody>\n",
       "</table>\n",
       "</div>"
      ],
      "text/plain": [
       "                        Venue  Venue Latitude  Venue Longitude  \\\n",
       "1        Peppa's Jerk Chicken       40.654953       -73.959783   \n",
       "2                       Risbo       40.656012       -73.959912   \n",
       "6               Empanada City       40.661631       -73.950436   \n",
       "8                        Glou       40.662949       -73.953869   \n",
       "10                Silver Rice       40.659673       -73.960368   \n",
       "11            The Food Sermon       40.664588       -73.953735   \n",
       "14       De Hot Pot Roti Shop       40.661424       -73.960884   \n",
       "22                  Werkstatt       40.645252       -73.970341   \n",
       "37                  Lula Bird       40.670854       -73.950421   \n",
       "39                    Glady's       40.671711       -73.957760   \n",
       "46                  Chavela's       40.673380       -73.957076   \n",
       "48                Silver Rice       40.674187       -73.957037   \n",
       "49                     Oxalis       40.672859       -73.962692   \n",
       "56                   Mayfield       40.674956       -73.956533   \n",
       "57       East Wind Snack Shop       40.660297       -73.980169   \n",
       "65                Diwan Grill       40.675355       -73.956507   \n",
       "66                  Lowerline       40.674214       -73.963137   \n",
       "70                    Provini       40.663283       -73.981431   \n",
       "72                The Islands       40.677036       -73.963563   \n",
       "74   Giovanni's Brooklyn Eats       40.660159       -73.983753   \n",
       "77                        Gen       40.677575       -73.963721   \n",
       "79                India House       40.678708       -73.949651   \n",
       "80               Puerto Viejo       40.678925       -73.961960   \n",
       "81                    Olmsted       40.677176       -73.968931   \n",
       "82              Sushi Katsuei       40.670615       -73.978504   \n",
       "87                      Fonda       40.663514       -73.984405   \n",
       "91                      Golda       40.681505       -73.955770   \n",
       "93                     Hart's       40.681470       -73.955800   \n",
       "96       A & A Bake & Doubles       40.680807       -73.949525   \n",
       "97  El Gran Castillo de Jagua       40.676964       -73.972251   \n",
       "\n",
       "                     Venue Category  \n",
       "1              Caribbean Restaurant  \n",
       "2                        Restaurant  \n",
       "6               Empanada Restaurant  \n",
       "8                  Tapas Restaurant  \n",
       "10                 Sushi Restaurant  \n",
       "11             Caribbean Restaurant  \n",
       "14             Caribbean Restaurant  \n",
       "22              Austrian Restaurant  \n",
       "37  Southern / Soul Food Restaurant  \n",
       "39             Caribbean Restaurant  \n",
       "46               Mexican Restaurant  \n",
       "48                 Sushi Restaurant  \n",
       "49                       Restaurant  \n",
       "56              American Restaurant  \n",
       "57               Chinese Restaurant  \n",
       "65                Indian Restaurant  \n",
       "66        Cajun / Creole Restaurant  \n",
       "70               Italian Restaurant  \n",
       "72             Caribbean Restaurant  \n",
       "74               Italian Restaurant  \n",
       "77                 Sushi Restaurant  \n",
       "79                Indian Restaurant  \n",
       "80        Latin American Restaurant  \n",
       "81          New American Restaurant  \n",
       "82              Japanese Restaurant  \n",
       "87               Mexican Restaurant  \n",
       "91          New American Restaurant  \n",
       "93              American Restaurant  \n",
       "96             Caribbean Restaurant  \n",
       "97        Latin American Restaurant  "
      ]
     },
     "execution_count": 33,
     "metadata": {},
     "output_type": "execute_result"
    }
   ],
   "source": [
    "new = df[df[\"Venue Category\"].str.contains('Restaurant', na=True)]\n",
    "new"
   ]
  },
  {
   "cell_type": "code",
   "execution_count": 32,
   "metadata": {},
   "outputs": [
    {
     "data": {
      "text/plain": [
       "30"
      ]
     },
     "execution_count": 32,
     "metadata": {},
     "output_type": "execute_result"
    }
   ],
   "source": [
    "new['Venue'].count()"
   ]
  },
  {
   "cell_type": "markdown",
   "metadata": {},
   "source": [
    "**So, we have 30 restaurants to be mapped**"
   ]
  },
  {
   "cell_type": "markdown",
   "metadata": {},
   "source": [
    "<a id=\"map_2\"></a>\n",
    "<h3>Creating a map of 30 Brooklyn (Bay Ridge) restaurants using latitude and longitude values</h3>"
   ]
  },
  {
   "cell_type": "code",
   "execution_count": 31,
   "metadata": {},
   "outputs": [
    {
     "data": {
      "text/html": [
       "<div style=\"width:100%;\"><div style=\"position:relative;width:100%;height:0;padding-bottom:60%;\"><iframe src=\"about:blank\" style=\"position:absolute;width:100%;height:100%;left:0;top:0;border:none !important;\" data-html=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 onload=\"this.contentDocument.open();this.contentDocument.write(atob(this.getAttribute('data-html')));this.contentDocument.close();\" allowfullscreen webkitallowfullscreen mozallowfullscreen></iframe></div></div>"
      ],
      "text/plain": [
       "<folium.folium.Map at 0x7f4be00e1908>"
      ]
     },
     "execution_count": 31,
     "metadata": {},
     "output_type": "execute_result"
    }
   ],
   "source": [
    "map_rest_bay = folium.Map(location=[40.6501038, -73.9495823], zoom_start=12, tiles = 'Stamen Terrain')\n",
    "\n",
    "for lat, lng, label in zip(new['Venue Latitude'], new['Venue Longitude'], new['Venue']):\n",
    "    label = folium.Popup(label, parse_html=True)\n",
    "    folium.CircleMarker([lat, lng],\n",
    "                        radius=6,\n",
    "                        popup=label,\n",
    "                        color='green',\n",
    "                        fill=True,\n",
    "                        fill_color='blue',\n",
    "                        fill_opacity=0.3).add_to(map_rest_bay)  \n",
    "    \n",
    "map_rest_bay"
   ]
  },
  {
   "cell_type": "markdown",
   "metadata": {},
   "source": [
    "<a id=\"results\"></a>\n",
    "<h2>Results</h2>"
   ]
  },
  {
   "cell_type": "markdown",
   "metadata": {},
   "source": [
    "In my opinion, the main result of the project is achieved - we have all potential competitors mapped and then the business side decides where exactly to locate the new restaurant."
   ]
  },
  {
   "cell_type": "markdown",
   "metadata": {},
   "source": [
    "<a id=\"discussion\"></a>\n",
    "<h2>Discussion</h2>"
   ]
  },
  {
   "cell_type": "markdown",
   "metadata": {},
   "source": [
    "I throroughly studied the lab \"Segmenting and Clustering Neighborhoods in New York City\" and notice that it simply does not work: the uploaded data shows the sema venues for every neighborhood, making them initiallt equal, that is why clustering in the lab also does not work. That is why I hope the tutors will change this, very important, module, because we all struggle a lot, as I read from the forum. This API makes a lot of problems."
   ]
  },
  {
   "cell_type": "markdown",
   "metadata": {},
   "source": [
    "<a id=\"conclusion\"></a>\n",
    "<h2>Conclusion</h2>"
   ]
  },
  {
   "cell_type": "markdown",
   "metadata": {},
   "source": [
    "In my opinion, in this report I have showed the most important steps in the business-like tasks."
   ]
  }
 ],
 "metadata": {
  "kernelspec": {
   "display_name": "Python 3",
   "language": "python",
   "name": "python3"
  },
  "language_info": {
   "codemirror_mode": {
    "name": "ipython",
    "version": 3
   },
   "file_extension": ".py",
   "mimetype": "text/x-python",
   "name": "python",
   "nbconvert_exporter": "python",
   "pygments_lexer": "ipython3",
   "version": "3.7.3"
  }
 },
 "nbformat": 4,
 "nbformat_minor": 2
}
