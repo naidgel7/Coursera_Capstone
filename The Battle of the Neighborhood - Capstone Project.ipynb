{
 "cells": [
  {
   "cell_type": "markdown",
   "metadata": {},
   "source": [
    "<h1><center> The Battle of the Neighborhoods - The Capstone Project <center></h1>"
   ]
  },
  {
   "cell_type": "markdown",
   "metadata": {},
   "source": [
    "<h2><center> Opening a restaurant of Russian national cuisine in New York City <center></h2>"
   ]
  },
  {
   "cell_type": "markdown",
   "metadata": {},
   "source": [
    "<img src = \"https://cache.marriott.com/marriottassets/destinations/hero/new-york-city-destination.jpg?interpolation=progressive-bilinear&resize=2880:960\" width = 1920>"
   ]
  },
  {
   "cell_type": "markdown",
   "metadata": {},
   "source": [
    "<h3><center>Table of Contents<center></h3>\n",
    "<div class=\"alert alert-block alert-info\" style=\"margin-top: 20px\">\n",
    "    <ul>\n",
    "        <li> \n",
    "            <a href=\"#intro\"> Business Problem </a>\n",
    "        </li>\n",
    "        <li> \n",
    "            <a href=\"#data\"> Data </a>\n",
    "        </li>\n",
    "        <li> \n",
    "            <a href=\"#import\"> Importing all relevant libraries </a>\n",
    "        </li>\n",
    "        <li> \n",
    "            <a href=\"#upload\"> Uploading neighborhoods database </a>\n",
    "        </li>\n",
    "        <li> \n",
    "            <a href=\"#choose\"> Choosing district </a>\n",
    "        </li>\n",
    "        <li> \n",
    "            <a href=\"#coord\"> Getting the geographical coordinates of the district </a>\n",
    "        </li>\n",
    "        <li> \n",
    "            <a href=\"#map_1\"> Creating a map of District's neighborhoods using latitude and longitude values </a>\n",
    "        </li>\n",
    "     </ul>\n",
    "</div>"
   ]
  },
  {
   "cell_type": "markdown",
   "metadata": {},
   "source": [
    "<a id=\"intro\"></a>\n",
    "<h3>Business Problem</h3>"
   ]
  },
  {
   "cell_type": "markdown",
   "metadata": {},
   "source": [
    "The target city of my interest is **New York**. \n",
    "\n",
    "The aim of this project is to define the optimal location for opening a new **restaurant** in one of the New York districts. \n",
    "\n",
    "The main problem of the project is that New York is crowded with various kinds of restaurants so the main challange is to select right location with minimum existing restaurants in the nearest neighborhood.\n",
    "\n",
    "The project can be relevant to those businessmen who desire to enlarge their business, New York has always been an attractive market."
   ]
  },
  {
   "cell_type": "markdown",
   "metadata": {},
   "source": [
    "<a id=\"data\"></a>\n",
    "<h3>Data</h3>"
   ]
  },
  {
   "cell_type": "markdown",
   "metadata": {},
   "source": [
    "The main data will be extracted using **Foursquare API** and the **\"newyork_data.json\"** file provided in the course earlier, as there are several problems with Foursquare when trying to fetch data of other cities.\n",
    "\n",
    "**Firstly**, the newyork_data.json file will be used to extract the information about New York districts and to choose one particular.\n",
    "\n",
    "**Secondly**, using Foursquare API, the relevant data about neighborhood venues will be uploaded.\n",
    "\n",
    "**Then**, only \"food\" types of venues will be chosen and mapped to determine the possible location of a new restaurant."
   ]
  },
  {
   "cell_type": "markdown",
   "metadata": {},
   "source": [
    "<a id=\"import\"></a>\n",
    "<h3>Importing all relevant libraries</h3>"
   ]
  },
  {
   "cell_type": "code",
   "execution_count": null,
   "metadata": {},
   "outputs": [],
   "source": []
  },
  {
   "cell_type": "markdown",
   "metadata": {},
   "source": [
    "<a id=\"upload\"></a>\n",
    "<h3>Uploading neighborhoods database</h3>"
   ]
  },
  {
   "cell_type": "code",
   "execution_count": null,
   "metadata": {},
   "outputs": [],
   "source": []
  },
  {
   "cell_type": "markdown",
   "metadata": {},
   "source": [
    "<a id=\"choose\"></a>\n",
    "<h3>Choosing district</h3>"
   ]
  },
  {
   "cell_type": "code",
   "execution_count": null,
   "metadata": {},
   "outputs": [],
   "source": []
  },
  {
   "cell_type": "markdown",
   "metadata": {},
   "source": [
    "<a id=\"coord\"></a>\n",
    "<h3>Getting the geographical coordinates of the district</h3>"
   ]
  },
  {
   "cell_type": "code",
   "execution_count": null,
   "metadata": {},
   "outputs": [],
   "source": []
  },
  {
   "cell_type": "markdown",
   "metadata": {},
   "source": [
    "<a id=\"map_1\"></a>\n",
    "<h3>Creating a map of District's neighborhoods using latitude and longitude values</h3>"
   ]
  },
  {
   "cell_type": "code",
   "execution_count": null,
   "metadata": {},
   "outputs": [],
   "source": []
  }
 ],
 "metadata": {
  "kernelspec": {
   "display_name": "Python 3",
   "language": "python",
   "name": "python3"
  },
  "language_info": {
   "codemirror_mode": {
    "name": "ipython",
    "version": 3
   },
   "file_extension": ".py",
   "mimetype": "text/x-python",
   "name": "python",
   "nbconvert_exporter": "python",
   "pygments_lexer": "ipython3",
   "version": "3.7.3"
  }
 },
 "nbformat": 4,
 "nbformat_minor": 2
}
